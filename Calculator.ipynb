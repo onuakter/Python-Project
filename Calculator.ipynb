{
  "nbformat": 4,
  "nbformat_minor": 0,
  "metadata": {
    "colab": {
      "provenance": []
    },
    "kernelspec": {
      "name": "python3",
      "display_name": "Python 3"
    },
    "language_info": {
      "name": "python"
    }
  },
  "cells": [
    {
      "cell_type": "code",
      "execution_count": null,
      "metadata": {
        "colab": {
          "base_uri": "https://localhost:8080/"
        },
        "id": "rnLMw6YDf-fk",
        "outputId": "142774da-b441-47d6-dfbf-afa194508bda"
      },
      "outputs": [
        {
          "output_type": "stream",
          "name": "stdout",
          "text": [
            "\n",
            "Options:\n",
            "1. Addition\n",
            "2. Subtraction\n",
            "3. Multiplication\n",
            "4. Division\n",
            "5. Exit\n"
          ]
        }
      ],
      "source": [
        "def add(x, y):\n",
        "    return x + y\n",
        "\n",
        "def subtract(x, y):\n",
        "    return x - y\n",
        "\n",
        "def multiply(x, y):\n",
        "    return x * y\n",
        "\n",
        "def division(x, y):\n",
        "    if y != 0:\n",
        "        return x / y\n",
        "    else:\n",
        "        print('Cannot divide by zero')\n",
        "\n",
        "def main():\n",
        "    while True:\n",
        "        print(\"\\nOptions:\")\n",
        "        print(\"1. Addition\")\n",
        "        print(\"2. Subtraction\")\n",
        "        print(\"3. Multiplication\")\n",
        "        print(\"4. Division\")\n",
        "        print(\"5. Exit\")\n",
        "\n",
        "        choice = input(\"Enter your choice (1/2/3/4/5): \")\n",
        "\n",
        "        if choice in ('1', '2', '3', '4'):\n",
        "            a = float(input('Enter the first number: '))\n",
        "            b = float(input('Enter the second number: '))\n",
        "\n",
        "            if choice == '1':\n",
        "                result = add(a, b)\n",
        "                print(f\"Result: {result}\")\n",
        "            elif choice == '2':\n",
        "                result = subtract(a, b)\n",
        "                print(result)\n",
        "            elif choice == '3':\n",
        "                result = multiply(a, b)\n",
        "                print(result)\n",
        "            elif choice == '4':\n",
        "                result = division(a, b)\n",
        "                print(result)\n",
        "        elif choice == '5':\n",
        "            print('Tata!')\n",
        "            break\n",
        "        else:\n",
        "            print('Enter a valid option; otherwise, it will not run.')\n",
        "\n",
        "if __name__ == '__main__':\n",
        "    main()\n",
        "\n",
        "\n",
        "\n"
      ]
    }
  ]
}